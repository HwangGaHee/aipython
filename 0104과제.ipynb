{
  "nbformat": 4,
  "nbformat_minor": 0,
  "metadata": {
    "colab": {
      "provenance": [],
      "authorship_tag": "ABX9TyO6bKJhQMlZdSRXnutXZHDu",
      "include_colab_link": true
    },
    "kernelspec": {
      "name": "python3",
      "display_name": "Python 3"
    },
    "language_info": {
      "name": "python"
    }
  },
  "cells": [
    {
      "cell_type": "markdown",
      "metadata": {
        "id": "view-in-github",
        "colab_type": "text"
      },
      "source": [
        "<a href=\"https://colab.research.google.com/github/HwangGaHee/aipython/blob/main/0104%EA%B3%BC%EC%A0%9C.ipynb\" target=\"_parent\"><img src=\"https://colab.research.google.com/assets/colab-badge.svg\" alt=\"Open In Colab\"/></a>"
      ]
    },
    {
      "cell_type": "code",
      "execution_count": 1,
      "metadata": {
        "colab": {
          "base_uri": "https://localhost:8080/"
        },
        "id": "o0WihXApjIOo",
        "outputId": "59e29e96-3503-4e15-fcc6-4cc0842faa5e"
      },
      "outputs": [
        {
          "output_type": "stream",
          "name": "stdout",
          "text": [
            "학생의 점수를 입력하세요. 10\n",
            "학생의 점수를 입력하세요. 9\n",
            "학생의 점수를 입력하세요. 8\n",
            "학생의 점수를 입력하세요. n\n",
            "입력 데이터 출력 :  [10, 9, 8]\n",
            "합계 :  27\n",
            "인원수 :  3\n",
            "평균 : 9.0\n"
          ]
        }
      ],
      "source": [
        "score = []\n",
        "\n",
        "while True:\n",
        "    a = input(\"학생의 점수를 입력하세요. \")\n",
        "    if (a.isdigit()) :\n",
        "     score.append(a)\n",
        "    else :\n",
        "       break\n",
        "\n",
        "score = list(map(int, score))\n",
        "print(\"입력 데이터 출력 : \", score)\n",
        "print(\"합계 : \", sum(score))\n",
        "print(\"인원수 : \", len(score))\n",
        "print(\"평균 :\", sum(score) / len(score))"
      ]
    }
  ]
}