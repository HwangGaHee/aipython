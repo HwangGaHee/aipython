{
  "nbformat": 4,
  "nbformat_minor": 0,
  "metadata": {
    "colab": {
      "provenance": [],
      "authorship_tag": "ABX9TyM1Zbt31ZfGt9U8PUotdbTc",
      "include_colab_link": true
    },
    "kernelspec": {
      "name": "python3",
      "display_name": "Python 3"
    },
    "language_info": {
      "name": "python"
    }
  },
  "cells": [
    {
      "cell_type": "markdown",
      "metadata": {
        "id": "view-in-github",
        "colab_type": "text"
      },
      "source": [
        "<a href=\"https://colab.research.google.com/github/HwangGaHee/aipython/blob/main/0103%EC%8B%A4%EC%8A%B5.ipynb\" target=\"_parent\"><img src=\"https://colab.research.google.com/assets/colab-badge.svg\" alt=\"Open In Colab\"/></a>"
      ]
    },
    {
      "cell_type": "code",
      "execution_count": 2,
      "metadata": {
        "colab": {
          "base_uri": "https://localhost:8080/"
        },
        "id": "kxUD-WSwWaAP",
        "outputId": "d9147b49-78cb-4c01-cac6-9347b8261fa7"
      },
      "outputs": [
        {
          "output_type": "stream",
          "name": "stdout",
          "text": [
            "********\n",
            "*******\n",
            "******\n",
            "*****\n",
            "****\n",
            "***\n",
            "**\n",
            "*\n"
          ]
        }
      ],
      "source": [
        "# 본 예제에서는 중첩 반복문을 사용하여 * (asterisks)로 삼각형을 만들어보자.\n",
        "BASE_SIZE = 8\n",
        "for r in range(BASE_SIZE):\n",
        "  for c in range(BASE_SIZE-r):\n",
        "    print('*', end='')\n",
        "  print()"
      ]
    }
  ]
}