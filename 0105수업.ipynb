{
  "nbformat": 4,
  "nbformat_minor": 0,
  "metadata": {
    "colab": {
      "provenance": [],
      "authorship_tag": "ABX9TyNCvGiY6efHwI/iD/YSLR0m",
      "include_colab_link": true
    },
    "kernelspec": {
      "name": "python3",
      "display_name": "Python 3"
    },
    "language_info": {
      "name": "python"
    }
  },
  "cells": [
    {
      "cell_type": "markdown",
      "metadata": {
        "id": "view-in-github",
        "colab_type": "text"
      },
      "source": [
        "<a href=\"https://colab.research.google.com/github/HwangGaHee/aipython/blob/main/0105%EC%88%98%EC%97%85.ipynb\" target=\"_parent\"><img src=\"https://colab.research.google.com/assets/colab-badge.svg\" alt=\"Open In Colab\"/></a>"
      ]
    },
    {
      "cell_type": "markdown",
      "source": [
        "1. split & join"
      ],
      "metadata": {
        "id": "W__17mxXNTPr"
      }
    },
    {
      "cell_type": "code",
      "execution_count": 11,
      "metadata": {
        "colab": {
          "base_uri": "https://localhost:8080/"
        },
        "id": "OVDHP8_EMlv_",
        "outputId": "0fdd7f41-366e-48e8-ba9a-aeb912f24eca"
      },
      "outputs": [
        {
          "output_type": "stream",
          "name": "stdout",
          "text": [
            "['John,30,Engineer', 'Alice,25,Designer', 'Bob,22,Artist']\n",
            "\n",
            "name: John age: 30 occupation: Engineer\n",
            "name: Alice age: 25 occupation: Designer\n",
            "name: Bob age: 22 occupation: Artist\n"
          ]
        }
      ],
      "source": [
        "#split\n",
        "data = \"John,30,Engineer\\nAlice,25,Designer\\nBob,22,Artist\"\n",
        "lines = data.split(\"\\n\") #<- \"Wn\"제외하고 분리시켜줌\n",
        "print(lines)\n",
        "\n",
        "print()\n",
        "\n",
        "for line  in lines:\n",
        "  fields=line.split(\",\")\n",
        "  print(\"name:\", fields[0],\"age:\",fields[1],\"occupation:\",fields[2])"
      ]
    },
    {
      "cell_type": "code",
      "source": [
        "#join\n",
        "words=[\"a\",\"가나\",\"bcd\"]\n",
        "sentence=\"\".join(words)\n",
        "print(sentence)"
      ],
      "metadata": {
        "colab": {
          "base_uri": "https://localhost:8080/"
        },
        "id": "wPB9tMSwP8QQ",
        "outputId": "2be9c241-04e9-495c-d4cc-e5a72be80754"
      },
      "execution_count": 12,
      "outputs": [
        {
          "output_type": "stream",
          "name": "stdout",
          "text": [
            "a가나bcd\n"
          ]
        }
      ]
    },
    {
      "cell_type": "code",
      "source": [
        "#lab1\n",
        "input=\"Geeks for Geeks\"\n",
        "output=input.split(\" \")\n",
        "print(output)\n",
        "\n",
        "#lab2\n",
        "input2=['Geeks','for','Geeks']\n",
        "output2='-'.join(input2) ###왜 -Geeks-for-Geeks-가 아닌건지??\n",
        "print(output2)"
      ],
      "metadata": {
        "colab": {
          "base_uri": "https://localhost:8080/"
        },
        "id": "q_qpBPusP8ZY",
        "outputId": "138f7c72-8bce-4af6-b646-1be2267c80ab"
      },
      "execution_count": 15,
      "outputs": [
        {
          "output_type": "stream",
          "name": "stdout",
          "text": [
            "['Geeks', 'for', 'Geeks']\n",
            "Geeks-for-Geeks\n"
          ]
        }
      ]
    },
    {
      "cell_type": "code",
      "source": [
        "#lab1응용\n",
        "input=\"Geeks for Geeks\"\n",
        "print(input.split(\" \"))"
      ],
      "metadata": {
        "colab": {
          "base_uri": "https://localhost:8080/"
        },
        "id": "WyK4UjjGRohH",
        "outputId": "8a7a0c8c-1585-4ff3-baa4-39248c8d58a0"
      },
      "execution_count": 17,
      "outputs": [
        {
          "output_type": "stream",
          "name": "stdout",
          "text": [
            "['Geeks', 'for', 'Geeks']\n"
          ]
        }
      ]
    },
    {
      "cell_type": "markdown",
      "source": [
        "2. list comprehension"
      ],
      "metadata": {
        "id": "iwySfROeSDYh"
      }
    },
    {
      "cell_type": "code",
      "source": [
        "s=[x**2 for x in range(7) if x%2==0]\n",
        "print(s)\n",
        "\n",
        "#list comprehension 형식\n",
        "# new_list=[expression for item in iterable(리스트와 같은 반복가능한 객체) if condition]"
      ],
      "metadata": {
        "colab": {
          "base_uri": "https://localhost:8080/"
        },
        "id": "lugeAhJZR9ZM",
        "outputId": "cd7beb9a-6ecf-4fd0-d13a-574e5572a730"
      },
      "execution_count": 2,
      "outputs": [
        {
          "output_type": "stream",
          "name": "stdout",
          "text": [
            "[0, 4, 16, 36]\n",
            "[0, 4, 16, 36]\n"
          ]
        }
      ]
    },
    {
      "cell_type": "code",
      "source": [
        "#1-20사이의 3의 배수의 제곱 리스트 작성하기\n",
        "s=[x**2 for x in range(1,21) if x%3==0]\n",
        "print(s)"
      ],
      "metadata": {
        "colab": {
          "base_uri": "https://localhost:8080/"
        },
        "id": "F194LF8PTYzA",
        "outputId": "26959786-36cc-45ee-bf79-fbb614cbc341"
      },
      "execution_count": 6,
      "outputs": [
        {
          "output_type": "stream",
          "name": "stdout",
          "text": [
            "[9, 36, 81, 144, 225, 324]\n"
          ]
        }
      ]
    },
    {
      "cell_type": "code",
      "source": [
        "#lab1\n",
        "input=[1,2,3,4,5]\n",
        "output=[input[i]**2 for i in range(len(input))]\n",
        "print(output)\n",
        "\n",
        "#lab2\n",
        "input=[\"Seoul\", \"New York\", \"London\", \"Shanghai\", \"Paris\", \"Tokyo\"]\n",
        "output=[input[i] for i in range(len(input)) if i%3==0]\n",
        "print(output)\n",
        "\n",
        "#lab2 list comprehension 쓰지말고 append 이용해서 해보기\n",
        "#for c in ~"
      ],
      "metadata": {
        "colab": {
          "base_uri": "https://localhost:8080/"
        },
        "id": "FFtzRhUDTqJZ",
        "outputId": "eb3890d8-431f-4dfa-8b6e-f62251f6dd3e"
      },
      "execution_count": 11,
      "outputs": [
        {
          "output_type": "stream",
          "name": "stdout",
          "text": [
            "[1, 4, 9, 16, 25]\n",
            "['Seoul', 'Shanghai']\n"
          ]
        }
      ]
    },
    {
      "cell_type": "markdown",
      "source": [
        "3. enumerate & zip"
      ],
      "metadata": {
        "id": "0JrxHtzIVSBz"
      }
    },
    {
      "cell_type": "code",
      "source": [
        "fruitsss=['a','b','c']\n",
        "for index,fruit in enumerate(fruitsss):\n",
        "  print(index,fruit)\n",
        "\n",
        "#enumerate(iterable, start=0)"
      ],
      "metadata": {
        "colab": {
          "base_uri": "https://localhost:8080/"
        },
        "id": "_ru_oPrIUreK",
        "outputId": "321212cb-1e56-4ed7-e2ba-5895af292d82"
      },
      "execution_count": 12,
      "outputs": [
        {
          "output_type": "stream",
          "name": "stdout",
          "text": [
            "0 a\n",
            "1 b\n",
            "2 c\n"
          ]
        }
      ]
    },
    {
      "cell_type": "code",
      "source": [
        "#lab1 - enumearate 이용하기\n",
        "input=['a','b','c']\n",
        "for index,input in enumerate(input):\n",
        "  #print(\"fruit\",index, \"name is \",input)\n",
        "  print(\"fruit%d name is %s\"%(index,input))\n",
        "\n",
        "print()\n",
        "\n",
        "#lab2 - range 이용하기\n",
        "input=['a','b','c']\n",
        "for i in range(len(input)):\n",
        "  #print(\"fruit\",i,\"name is\",input[i])\n",
        "  print(\"fruit%d name is %s\"%(i,input[i]))"
      ],
      "metadata": {
        "colab": {
          "base_uri": "https://localhost:8080/"
        },
        "id": "7Vd6_zZpWy23",
        "outputId": "bf75acb2-2ced-4f0a-dff6-9ac78e29e85f"
      },
      "execution_count": 21,
      "outputs": [
        {
          "output_type": "stream",
          "name": "stdout",
          "text": [
            "fruit0 name is a\n",
            "fruit1 name is b\n",
            "fruit2 name is c\n",
            "\n",
            "fruit0 name is a\n",
            "fruit1 name is b\n",
            "fruit2 name is c\n"
          ]
        }
      ]
    },
    {
      "cell_type": "markdown",
      "source": [
        "3. enumerate & zip"
      ],
      "metadata": {
        "id": "phG1jJt2ZA0I"
      }
    },
    {
      "cell_type": "code",
      "source": [
        "#zip <- 튜플로 묶어서 반환\n",
        "names=[\"John\",\"Jane\",\"Doe\"]\n",
        "ages=[25, 30, 35]\n",
        "\n",
        "#a=dict(zip(keys, values)) <-? 이용하면 되는듯, 해보기\n",
        "\n",
        "for name, age in zip(names, ages):\n",
        "  print(f\"{name} is {age} years old.\")"
      ],
      "metadata": {
        "colab": {
          "base_uri": "https://localhost:8080/"
        },
        "id": "iw15JIHPZGZZ",
        "outputId": "74f1b1c5-dadd-467d-c8e9-69e6d5b692ad"
      },
      "execution_count": 22,
      "outputs": [
        {
          "output_type": "stream",
          "name": "stdout",
          "text": [
            "John is 25 years old.\n",
            "Jane is 30 years old.\n",
            "Doe is 35 years old.\n"
          ]
        }
      ]
    },
    {
      "cell_type": "code",
      "source": [
        "#lab1 - 해결못함 p8\n",
        "\n",
        "name=[\"M\",\"N\",\"S\",\"A\"]\n",
        "roll_no=[4,1,3,2]\n",
        "\n",
        "for name1, roll1 in zip(name,roll_no):\n",
        "\n",
        "  print(f\"('%s',%d)\"%(name1,roll1),end=\",\")"
      ],
      "metadata": {
        "colab": {
          "base_uri": "https://localhost:8080/"
        },
        "id": "rzZI9IM6YlMK",
        "outputId": "88c4bafd-755a-4b7d-852f-0eb80cfe6776"
      },
      "execution_count": 29,
      "outputs": [
        {
          "output_type": "stream",
          "name": "stdout",
          "text": [
            "('M',4),('N',1),('S',3),('A',2),"
          ]
        }
      ]
    },
    {
      "cell_type": "markdown",
      "source": [
        "4. lambda & map"
      ],
      "metadata": {
        "id": "pk4SXPOld543"
      }
    },
    {
      "cell_type": "code",
      "source": [
        "#lambda argument: expression <-이름 없는 함수를 정의할 때 사용\n",
        "\n",
        "add= lambda x,y: x+y\n",
        "print(add(5,6))\n",
        "\n",
        "#def add(x,y): return x+y 이 함수를 정의해주지 않아도 바로 lambda를 이용해 사용가능"
      ],
      "metadata": {
        "colab": {
          "base_uri": "https://localhost:8080/"
        },
        "id": "dcUm1-MuaUAq",
        "outputId": "33a47c70-0f29-4706-acab-35b964f24f9b"
      },
      "execution_count": 30,
      "outputs": [
        {
          "output_type": "stream",
          "name": "stdout",
          "text": [
            "11\n"
          ]
        }
      ]
    },
    {
      "cell_type": "code",
      "source": [
        "#lambda랑 map 다시 제대로 보기\n",
        "#list comprehension이랑 lambda는 꼭 기억하기"
      ],
      "metadata": {
        "id": "KlvsdILRe11W"
      },
      "execution_count": null,
      "outputs": []
    }
  ]
}