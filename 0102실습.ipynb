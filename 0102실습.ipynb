{
  "nbformat": 4,
  "nbformat_minor": 0,
  "metadata": {
    "colab": {
      "provenance": [],
      "authorship_tag": "ABX9TyNW9f+x43kuP94sps/Uidwp",
      "include_colab_link": true
    },
    "kernelspec": {
      "name": "python3",
      "display_name": "Python 3"
    },
    "language_info": {
      "name": "python"
    }
  },
  "cells": [
    {
      "cell_type": "markdown",
      "metadata": {
        "id": "view-in-github",
        "colab_type": "text"
      },
      "source": [
        "<a href=\"https://colab.research.google.com/github/HwangGaHee/aipython/blob/main/0102%EC%8B%A4%EC%8A%B5.ipynb\" target=\"_parent\"><img src=\"https://colab.research.google.com/assets/colab-badge.svg\" alt=\"Open In Colab\"/></a>"
      ]
    },
    {
      "cell_type": "code",
      "execution_count": null,
      "metadata": {
        "id": "e9Od-kPlISxK"
      },
      "outputs": [],
      "source": [
        "#2-6\n",
        "Lab = 105\n",
        "print('우리가 수업하는 실습실:')\n",
        "print(Lab)"
      ]
    },
    {
      "cell_type": "code",
      "source": [
        "#2-7\n",
        "Lab = 105\n",
        "print('우리가 수업하는 실습실: ', Lab)"
      ],
      "metadata": {
        "id": "7eMkhNcGInhr"
      },
      "execution_count": null,
      "outputs": []
    },
    {
      "cell_type": "code",
      "source": [
        "#2-8\n",
        "# 변수 두 개를 생성하고 값을 할당\n",
        "my_id = 20150001\n",
        "grade = 1\n",
        "# 두 개의 변수에 할당된 값을 출력\n",
        "print('나의 학번: ')\n",
        "print(my_id)\n",
        "print('학년: ')\n",
        "print(grade)"
      ],
      "metadata": {
        "id": "QDF69lS2Iskh"
      },
      "execution_count": null,
      "outputs": []
    },
    {
      "cell_type": "code",
      "source": [
        "#2-9\n",
        "dollars = 2.75\n",
        "print('I have', dollars, 'in my account.')\n",
        "dollars = 99.95\n",
        "print('But now I have', dollars, 'in my account!')"
      ],
      "metadata": {
        "id": "5mXo6D5_IuB2"
      },
      "execution_count": null,
      "outputs": []
    },
    {
      "cell_type": "code",
      "source": [
        "#2-10\n",
        "department = '국어국문학과'\n",
        "name = '홍길동'\n",
        "print(department, name)"
      ],
      "metadata": {
        "id": "0UDGFLe3IxFS"
      },
      "execution_count": null,
      "outputs": []
    },
    {
      "cell_type": "code",
      "source": [
        "#2-11\n",
        "department = input('학과명: ')\n",
        "print('안녕하세요', department, name)"
      ],
      "metadata": {
        "id": "oCbc02yaIy3d"
      },
      "execution_count": null,
      "outputs": []
    },
    {
      "cell_type": "code",
      "source": [
        "#2-12\n",
        "name = input('당신의 이름은 무엇입니까? ')\n",
        "age = int(input('나이는 어떻게 되시나요? '))\n",
        "attending_time = float(input('통학시간은 얼마나 걸립니까? '))\n",
        "print('입력 정보는 다음과 같습니다.')\n",
        "print('이름:', name)\n",
        "print('나이:', age)\n",
        "print('통학시간:', attending_time)"
      ],
      "metadata": {
        "id": "qDZtMusiI0Sy"
      },
      "execution_count": null,
      "outputs": []
    },
    {
      "cell_type": "code",
      "source": [
        "#2-13\n",
        "salary = 2500.0\n",
        "bonus = 1200.0\n",
        "pay = salary + bonus\n",
        "print('총 급여: ', pay)"
      ],
      "metadata": {
        "id": "t78r5xa0I0bw"
      },
      "execution_count": null,
      "outputs": []
    },
    {
      "cell_type": "code",
      "source": [
        "#2-14\n",
        "original_price = float(input(\"제품의 원가를 입력해주세요: \"))\n",
        "discount = original_price * 0.2\n",
        "sale_price = original_price - discount\n",
        "print('할인가격: ', sale_price)"
      ],
      "metadata": {
        "id": "dZCL2KZpI3dq"
      },
      "execution_count": null,
      "outputs": []
    },
    {
      "cell_type": "code",
      "source": [
        "#2-15\n",
        "test1=float(input(\"첫 번째 과목 점수를 입력해주세요 : \"))\n",
        "test2=float(input(\"두 번째 과목 점수를 입력해주세요 : \"))\n",
        "test3=float(input(\"세 번째 과목 점수를 입력해주세요 : \"))\n",
        "average=(test1+test2+test3)/3.0 #<-3으로 해도 됨\n",
        "print(\"세 과목의 평균 점수 : \", average)"
      ],
      "metadata": {
        "id": "0mvUq0-FI3ms"
      },
      "execution_count": null,
      "outputs": []
    },
    {
      "cell_type": "code",
      "source": [
        "#2-16\n",
        "total_seconds= float(input(\"시간 값을 초 단위로 입력해주세요\"))\n",
        "hours=total_seconds//3600\n",
        "minutes=(total_seconds//60)%60\n",
        "seconds=total_seconds%60\n",
        "print(\"시 분 초는 다음과 같습니다.\")\n",
        "print(\"시\",hours)\n",
        "print(\"분\",minutes)\n",
        "print(\"초\",seconds)"
      ],
      "metadata": {
        "id": "CFrBmyT2I3ri"
      },
      "execution_count": null,
      "outputs": []
    },
    {
      "cell_type": "code",
      "source": [
        "#2-17\n",
        "future_value=float(input(\"목표 금액을 입력해주세요 : \"))\n",
        "rate=float(input(\"연간 이율을 입력해주세요 : \"))\n",
        "years=float(input(\"저축기간을 연단위로 입력해주세요 : \"))\n",
        "present_value=future_value/(1.0+rate)**years\n",
        "print(\"적립금액 : \",present_value)"
      ],
      "metadata": {
        "id": "BBGlhLsmI4Hp"
      },
      "execution_count": null,
      "outputs": []
    },
    {
      "cell_type": "code",
      "source": [
        "#2-18\n",
        "print(\"a\",\"b\",\"c\")\n",
        "print(\"a\",\"b\",\"c\",sep=\"\")\n",
        "print(\"a\",\"b\",\"c\",sep=\"***\")"
      ],
      "metadata": {
        "id": "IF5oNsuKI4K_"
      },
      "execution_count": null,
      "outputs": []
    },
    {
      "cell_type": "code",
      "source": [
        "#2-19\n",
        "print('a')\n",
        "print('b')\n",
        "print('c', end='') #줄바꿈 없애는 방법\n",
        "print('d', end='')\n",
        "print('e', end='***')\n",
        "print('f')"
      ],
      "metadata": {
        "id": "xqh07m3_I-g9"
      },
      "execution_count": null,
      "outputs": []
    }
  ]
}